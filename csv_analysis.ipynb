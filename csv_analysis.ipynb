{
  "nbformat": 4,
  "nbformat_minor": 0,
  "metadata": {
    "colab": {
      "name": "csv_analysis.ipynb",
      "provenance": [],
      "collapsed_sections": [],
      "authorship_tag": "ABX9TyNa63c7jJsIeEtKmFLy3p/8",
      "include_colab_link": true
    },
    "kernelspec": {
      "name": "python3",
      "display_name": "Python 3"
    },
    "language_info": {
      "name": "python"
    }
  },
  "cells": [
    {
      "cell_type": "markdown",
      "metadata": {
        "id": "view-in-github",
        "colab_type": "text"
      },
      "source": [
        "<a href=\"https://colab.research.google.com/github/schreiterjp/colab_save/blob/main/csv_analysis.ipynb\" target=\"_parent\"><img src=\"https://colab.research.google.com/assets/colab-badge.svg\" alt=\"Open In Colab\"/></a>"
      ]
    },
    {
      "cell_type": "code",
      "metadata": {
        "id": "cAVae03QAZd9"
      },
      "source": [
        "# import libraries\n",
        "import numpy as np\n",
        "import pandas as pd"
      ],
      "execution_count": null,
      "outputs": []
    },
    {
      "cell_type": "code",
      "metadata": {
        "colab": {
          "base_uri": "https://localhost:8080/",
          "height": 204
        },
        "id": "tIh_yyXvAp6Q",
        "outputId": "a42b1976-0e3d-425e-8b0a-36291e7b3836"
      },
      "source": [
        "#read csv file\n",
        "#df = pd.read_csv()\n",
        "\n",
        "#dummy dataframe for first testing \n",
        "data = {'name':['müller', 'mustermann', 'wick', 'skywalker', 'potter'],\n",
        "        'company':['abc', 'rental', 'science', 'light', 'mystery'],\n",
        "        'department':['a', 'b', None , 'd', 'e'],\n",
        "        'country':['germany', 'poland', 'nz', 'au', 'gb'], \n",
        "        'value_a':[1,2,3,4,5],\n",
        "        'value_b':[6,7,8,9,10]\n",
        "        }\n",
        "\n",
        "df = pd.DataFrame(data)\n",
        "df"
      ],
      "execution_count": null,
      "outputs": [
        {
          "output_type": "execute_result",
          "data": {
            "text/html": [
              "<div>\n",
              "<style scoped>\n",
              "    .dataframe tbody tr th:only-of-type {\n",
              "        vertical-align: middle;\n",
              "    }\n",
              "\n",
              "    .dataframe tbody tr th {\n",
              "        vertical-align: top;\n",
              "    }\n",
              "\n",
              "    .dataframe thead th {\n",
              "        text-align: right;\n",
              "    }\n",
              "</style>\n",
              "<table border=\"1\" class=\"dataframe\">\n",
              "  <thead>\n",
              "    <tr style=\"text-align: right;\">\n",
              "      <th></th>\n",
              "      <th>name</th>\n",
              "      <th>company</th>\n",
              "      <th>department</th>\n",
              "      <th>country</th>\n",
              "      <th>value_a</th>\n",
              "      <th>value_b</th>\n",
              "    </tr>\n",
              "  </thead>\n",
              "  <tbody>\n",
              "    <tr>\n",
              "      <th>0</th>\n",
              "      <td>müller</td>\n",
              "      <td>abc</td>\n",
              "      <td>a</td>\n",
              "      <td>germany</td>\n",
              "      <td>1</td>\n",
              "      <td>6</td>\n",
              "    </tr>\n",
              "    <tr>\n",
              "      <th>1</th>\n",
              "      <td>mustermann</td>\n",
              "      <td>rental</td>\n",
              "      <td>b</td>\n",
              "      <td>poland</td>\n",
              "      <td>2</td>\n",
              "      <td>7</td>\n",
              "    </tr>\n",
              "    <tr>\n",
              "      <th>2</th>\n",
              "      <td>wick</td>\n",
              "      <td>science</td>\n",
              "      <td>None</td>\n",
              "      <td>nz</td>\n",
              "      <td>3</td>\n",
              "      <td>8</td>\n",
              "    </tr>\n",
              "    <tr>\n",
              "      <th>3</th>\n",
              "      <td>skywalker</td>\n",
              "      <td>light</td>\n",
              "      <td>d</td>\n",
              "      <td>au</td>\n",
              "      <td>4</td>\n",
              "      <td>9</td>\n",
              "    </tr>\n",
              "    <tr>\n",
              "      <th>4</th>\n",
              "      <td>potter</td>\n",
              "      <td>mystery</td>\n",
              "      <td>e</td>\n",
              "      <td>gb</td>\n",
              "      <td>5</td>\n",
              "      <td>10</td>\n",
              "    </tr>\n",
              "  </tbody>\n",
              "</table>\n",
              "</div>"
            ],
            "text/plain": [
              "         name  company department  country  value_a  value_b\n",
              "0      müller      abc          a  germany        1        6\n",
              "1  mustermann   rental          b   poland        2        7\n",
              "2        wick  science       None       nz        3        8\n",
              "3   skywalker    light          d       au        4        9\n",
              "4      potter  mystery          e       gb        5       10"
            ]
          },
          "metadata": {
            "tags": []
          },
          "execution_count": 4
        }
      ]
    },
    {
      "cell_type": "markdown",
      "metadata": {
        "id": "a-ZFZ86kE-vb"
      },
      "source": [
        "general information"
      ]
    },
    {
      "cell_type": "code",
      "metadata": {
        "colab": {
          "base_uri": "https://localhost:8080/",
          "height": 204
        },
        "id": "nDMmzvvPFYFV",
        "outputId": "286ec0cf-878d-48aa-ae05-a7856a451fef"
      },
      "source": [
        "df.head()"
      ],
      "execution_count": null,
      "outputs": [
        {
          "output_type": "execute_result",
          "data": {
            "text/html": [
              "<div>\n",
              "<style scoped>\n",
              "    .dataframe tbody tr th:only-of-type {\n",
              "        vertical-align: middle;\n",
              "    }\n",
              "\n",
              "    .dataframe tbody tr th {\n",
              "        vertical-align: top;\n",
              "    }\n",
              "\n",
              "    .dataframe thead th {\n",
              "        text-align: right;\n",
              "    }\n",
              "</style>\n",
              "<table border=\"1\" class=\"dataframe\">\n",
              "  <thead>\n",
              "    <tr style=\"text-align: right;\">\n",
              "      <th></th>\n",
              "      <th>name</th>\n",
              "      <th>company</th>\n",
              "      <th>department</th>\n",
              "      <th>country</th>\n",
              "      <th>value_a</th>\n",
              "      <th>value_b</th>\n",
              "    </tr>\n",
              "  </thead>\n",
              "  <tbody>\n",
              "    <tr>\n",
              "      <th>0</th>\n",
              "      <td>müller</td>\n",
              "      <td>abc</td>\n",
              "      <td>a</td>\n",
              "      <td>germany</td>\n",
              "      <td>1</td>\n",
              "      <td>6</td>\n",
              "    </tr>\n",
              "    <tr>\n",
              "      <th>1</th>\n",
              "      <td>mustermann</td>\n",
              "      <td>rental</td>\n",
              "      <td>b</td>\n",
              "      <td>poland</td>\n",
              "      <td>2</td>\n",
              "      <td>7</td>\n",
              "    </tr>\n",
              "    <tr>\n",
              "      <th>2</th>\n",
              "      <td>wick</td>\n",
              "      <td>science</td>\n",
              "      <td>None</td>\n",
              "      <td>nz</td>\n",
              "      <td>3</td>\n",
              "      <td>8</td>\n",
              "    </tr>\n",
              "    <tr>\n",
              "      <th>3</th>\n",
              "      <td>skywalker</td>\n",
              "      <td>light</td>\n",
              "      <td>d</td>\n",
              "      <td>au</td>\n",
              "      <td>4</td>\n",
              "      <td>9</td>\n",
              "    </tr>\n",
              "    <tr>\n",
              "      <th>4</th>\n",
              "      <td>potter</td>\n",
              "      <td>mystery</td>\n",
              "      <td>e</td>\n",
              "      <td>gb</td>\n",
              "      <td>5</td>\n",
              "      <td>10</td>\n",
              "    </tr>\n",
              "  </tbody>\n",
              "</table>\n",
              "</div>"
            ],
            "text/plain": [
              "         name  company department  country  value_a  value_b\n",
              "0      müller      abc          a  germany        1        6\n",
              "1  mustermann   rental          b   poland        2        7\n",
              "2        wick  science       None       nz        3        8\n",
              "3   skywalker    light          d       au        4        9\n",
              "4      potter  mystery          e       gb        5       10"
            ]
          },
          "metadata": {
            "tags": []
          },
          "execution_count": 5
        }
      ]
    },
    {
      "cell_type": "code",
      "metadata": {
        "colab": {
          "base_uri": "https://localhost:8080/"
        },
        "id": "XYqYwiQXFCWw",
        "outputId": "48fcd172-6e97-4f2a-8bee-be1445d69fce"
      },
      "source": [
        "df.info()"
      ],
      "execution_count": null,
      "outputs": [
        {
          "output_type": "stream",
          "text": [
            "<class 'pandas.core.frame.DataFrame'>\n",
            "RangeIndex: 5 entries, 0 to 4\n",
            "Data columns (total 6 columns):\n",
            " #   Column      Non-Null Count  Dtype \n",
            "---  ------      --------------  ----- \n",
            " 0   name        5 non-null      object\n",
            " 1   company     5 non-null      object\n",
            " 2   department  4 non-null      object\n",
            " 3   country     5 non-null      object\n",
            " 4   value_a     5 non-null      int64 \n",
            " 5   value_b     5 non-null      int64 \n",
            "dtypes: int64(2), object(4)\n",
            "memory usage: 368.0+ bytes\n"
          ],
          "name": "stdout"
        }
      ]
    },
    {
      "cell_type": "code",
      "metadata": {
        "colab": {
          "base_uri": "https://localhost:8080/",
          "height": 297
        },
        "id": "eB5ZMK7HFEUP",
        "outputId": "1ab78b0c-ba1a-4fd8-ea12-406ffe34110e"
      },
      "source": [
        "df.describe()"
      ],
      "execution_count": null,
      "outputs": [
        {
          "output_type": "execute_result",
          "data": {
            "text/html": [
              "<div>\n",
              "<style scoped>\n",
              "    .dataframe tbody tr th:only-of-type {\n",
              "        vertical-align: middle;\n",
              "    }\n",
              "\n",
              "    .dataframe tbody tr th {\n",
              "        vertical-align: top;\n",
              "    }\n",
              "\n",
              "    .dataframe thead th {\n",
              "        text-align: right;\n",
              "    }\n",
              "</style>\n",
              "<table border=\"1\" class=\"dataframe\">\n",
              "  <thead>\n",
              "    <tr style=\"text-align: right;\">\n",
              "      <th></th>\n",
              "      <th>value_a</th>\n",
              "      <th>value_b</th>\n",
              "    </tr>\n",
              "  </thead>\n",
              "  <tbody>\n",
              "    <tr>\n",
              "      <th>count</th>\n",
              "      <td>5.000000</td>\n",
              "      <td>5.000000</td>\n",
              "    </tr>\n",
              "    <tr>\n",
              "      <th>mean</th>\n",
              "      <td>3.000000</td>\n",
              "      <td>8.000000</td>\n",
              "    </tr>\n",
              "    <tr>\n",
              "      <th>std</th>\n",
              "      <td>1.581139</td>\n",
              "      <td>1.581139</td>\n",
              "    </tr>\n",
              "    <tr>\n",
              "      <th>min</th>\n",
              "      <td>1.000000</td>\n",
              "      <td>6.000000</td>\n",
              "    </tr>\n",
              "    <tr>\n",
              "      <th>25%</th>\n",
              "      <td>2.000000</td>\n",
              "      <td>7.000000</td>\n",
              "    </tr>\n",
              "    <tr>\n",
              "      <th>50%</th>\n",
              "      <td>3.000000</td>\n",
              "      <td>8.000000</td>\n",
              "    </tr>\n",
              "    <tr>\n",
              "      <th>75%</th>\n",
              "      <td>4.000000</td>\n",
              "      <td>9.000000</td>\n",
              "    </tr>\n",
              "    <tr>\n",
              "      <th>max</th>\n",
              "      <td>5.000000</td>\n",
              "      <td>10.000000</td>\n",
              "    </tr>\n",
              "  </tbody>\n",
              "</table>\n",
              "</div>"
            ],
            "text/plain": [
              "        value_a    value_b\n",
              "count  5.000000   5.000000\n",
              "mean   3.000000   8.000000\n",
              "std    1.581139   1.581139\n",
              "min    1.000000   6.000000\n",
              "25%    2.000000   7.000000\n",
              "50%    3.000000   8.000000\n",
              "75%    4.000000   9.000000\n",
              "max    5.000000  10.000000"
            ]
          },
          "metadata": {
            "tags": []
          },
          "execution_count": 5
        }
      ]
    },
    {
      "cell_type": "markdown",
      "metadata": {
        "id": "WJkf3QSrFc5H"
      },
      "source": [
        "delete columns"
      ]
    },
    {
      "cell_type": "code",
      "metadata": {
        "id": "VX3NxkRwCGN_"
      },
      "source": [
        "#df = df.drop(columns='')"
      ],
      "execution_count": null,
      "outputs": []
    },
    {
      "cell_type": "markdown",
      "metadata": {
        "id": "kPIWxNZgDx41"
      },
      "source": [
        "**handling missing data if nessescary**"
      ]
    },
    {
      "cell_type": "markdown",
      "metadata": {
        "id": "VRumrwOZD2P9"
      },
      "source": [
        "view missing values"
      ]
    },
    {
      "cell_type": "code",
      "metadata": {
        "colab": {
          "base_uri": "https://localhost:8080/"
        },
        "id": "Cj_c51fhD7VW",
        "outputId": "a6cc1c9c-387c-4caa-8c5c-00f5fde91e3c"
      },
      "source": [
        "df.isnull().sum(axis=0)"
      ],
      "execution_count": null,
      "outputs": [
        {
          "output_type": "execute_result",
          "data": {
            "text/plain": [
              "name          0\n",
              "company       0\n",
              "department    0\n",
              "country       0\n",
              "value_a       0\n",
              "value_b       0\n",
              "dtype: int64"
            ]
          },
          "metadata": {
            "tags": []
          },
          "execution_count": 7
        }
      ]
    },
    {
      "cell_type": "code",
      "metadata": {
        "colab": {
          "base_uri": "https://localhost:8080/"
        },
        "id": "Rqe38G_BV-C_",
        "outputId": "8e35450c-916f-4502-9e9b-8cd7bba4cd74"
      },
      "source": [
        "df.isna().sum(axis=0)"
      ],
      "execution_count": null,
      "outputs": [
        {
          "output_type": "execute_result",
          "data": {
            "text/plain": [
              "name          0\n",
              "company       0\n",
              "department    0\n",
              "country       0\n",
              "value_a       0\n",
              "value_b       0\n",
              "dtype: int64"
            ]
          },
          "metadata": {
            "tags": []
          },
          "execution_count": 8
        }
      ]
    },
    {
      "cell_type": "markdown",
      "metadata": {
        "id": "rYO9fvnSD9wh"
      },
      "source": [
        "insert mean value of columns "
      ]
    },
    {
      "cell_type": "code",
      "metadata": {
        "id": "ZwvJ3Ai7EC1h",
        "colab": {
          "base_uri": "https://localhost:8080/",
          "height": 181
        },
        "outputId": "28862e16-9a3c-4e34-96d3-d1dbb7fa8244"
      },
      "source": [
        "#replace column_name\n",
        "df[column_name]=df[column_name].fillna(df.colum_name.mean())"
      ],
      "execution_count": null,
      "outputs": [
        {
          "output_type": "error",
          "ename": "NameError",
          "evalue": "ignored",
          "traceback": [
            "\u001b[0;31m---------------------------------------------------------------------------\u001b[0m",
            "\u001b[0;31mNameError\u001b[0m                                 Traceback (most recent call last)",
            "\u001b[0;32m<ipython-input-9-59146986ebfb>\u001b[0m in \u001b[0;36m<module>\u001b[0;34m()\u001b[0m\n\u001b[1;32m      1\u001b[0m \u001b[0;31m#replace column_name\u001b[0m\u001b[0;34m\u001b[0m\u001b[0;34m\u001b[0m\u001b[0;34m\u001b[0m\u001b[0m\n\u001b[0;32m----> 2\u001b[0;31m \u001b[0mdf\u001b[0m\u001b[0;34m[\u001b[0m\u001b[0mcolumn_name\u001b[0m\u001b[0;34m]\u001b[0m\u001b[0;34m=\u001b[0m\u001b[0mdf\u001b[0m\u001b[0;34m[\u001b[0m\u001b[0mcolumn_name\u001b[0m\u001b[0;34m]\u001b[0m\u001b[0;34m.\u001b[0m\u001b[0mfillna\u001b[0m\u001b[0;34m(\u001b[0m\u001b[0mdf\u001b[0m\u001b[0;34m.\u001b[0m\u001b[0mcolum_name\u001b[0m\u001b[0;34m.\u001b[0m\u001b[0mmean\u001b[0m\u001b[0;34m(\u001b[0m\u001b[0;34m)\u001b[0m\u001b[0;34m)\u001b[0m\u001b[0;34m\u001b[0m\u001b[0;34m\u001b[0m\u001b[0m\n\u001b[0m",
            "\u001b[0;31mNameError\u001b[0m: name 'column_name' is not defined"
          ]
        }
      ]
    },
    {
      "cell_type": "markdown",
      "metadata": {
        "id": "GSTh73phECjP"
      },
      "source": [
        "drop columns with missing data"
      ]
    },
    {
      "cell_type": "code",
      "metadata": {
        "id": "qifGzTxTEEec"
      },
      "source": [
        "df = df.dropna()"
      ],
      "execution_count": null,
      "outputs": []
    },
    {
      "cell_type": "markdown",
      "metadata": {
        "id": "ESP3PRKqFohh"
      },
      "source": [
        "**Cleaning data**\n"
      ]
    },
    {
      "cell_type": "markdown",
      "metadata": {
        "id": "uaajFg9NFtkc"
      },
      "source": [
        "delete duplicates"
      ]
    },
    {
      "cell_type": "code",
      "metadata": {
        "id": "mHaV3e9cFrfv"
      },
      "source": [
        "df = df.drop_duplicates()"
      ],
      "execution_count": null,
      "outputs": []
    },
    {
      "cell_type": "markdown",
      "metadata": {
        "id": "pYw8wcAUF7x7"
      },
      "source": [
        "tidy data"
      ]
    },
    {
      "cell_type": "code",
      "metadata": {
        "colab": {
          "base_uri": "https://localhost:8080/",
          "height": 359
        },
        "id": "osOHy5HcF-Kh",
        "outputId": "76e7a44c-fd39-47f3-a818-9b2a64486817"
      },
      "source": [
        "tidy_df = pd.melt(frame=df, id_vars=\"name\", value_vars=['value_a', 'value_b'])\n",
        "tidy_df"
      ],
      "execution_count": null,
      "outputs": [
        {
          "output_type": "execute_result",
          "data": {
            "text/html": [
              "<div>\n",
              "<style scoped>\n",
              "    .dataframe tbody tr th:only-of-type {\n",
              "        vertical-align: middle;\n",
              "    }\n",
              "\n",
              "    .dataframe tbody tr th {\n",
              "        vertical-align: top;\n",
              "    }\n",
              "\n",
              "    .dataframe thead th {\n",
              "        text-align: right;\n",
              "    }\n",
              "</style>\n",
              "<table border=\"1\" class=\"dataframe\">\n",
              "  <thead>\n",
              "    <tr style=\"text-align: right;\">\n",
              "      <th></th>\n",
              "      <th>name</th>\n",
              "      <th>variable</th>\n",
              "      <th>value</th>\n",
              "    </tr>\n",
              "  </thead>\n",
              "  <tbody>\n",
              "    <tr>\n",
              "      <th>0</th>\n",
              "      <td>müller</td>\n",
              "      <td>value_a</td>\n",
              "      <td>1</td>\n",
              "    </tr>\n",
              "    <tr>\n",
              "      <th>1</th>\n",
              "      <td>mustermann</td>\n",
              "      <td>value_a</td>\n",
              "      <td>2</td>\n",
              "    </tr>\n",
              "    <tr>\n",
              "      <th>2</th>\n",
              "      <td>wick</td>\n",
              "      <td>value_a</td>\n",
              "      <td>3</td>\n",
              "    </tr>\n",
              "    <tr>\n",
              "      <th>3</th>\n",
              "      <td>skywalker</td>\n",
              "      <td>value_a</td>\n",
              "      <td>4</td>\n",
              "    </tr>\n",
              "    <tr>\n",
              "      <th>4</th>\n",
              "      <td>potter</td>\n",
              "      <td>value_a</td>\n",
              "      <td>5</td>\n",
              "    </tr>\n",
              "    <tr>\n",
              "      <th>5</th>\n",
              "      <td>müller</td>\n",
              "      <td>value_b</td>\n",
              "      <td>6</td>\n",
              "    </tr>\n",
              "    <tr>\n",
              "      <th>6</th>\n",
              "      <td>mustermann</td>\n",
              "      <td>value_b</td>\n",
              "      <td>7</td>\n",
              "    </tr>\n",
              "    <tr>\n",
              "      <th>7</th>\n",
              "      <td>wick</td>\n",
              "      <td>value_b</td>\n",
              "      <td>8</td>\n",
              "    </tr>\n",
              "    <tr>\n",
              "      <th>8</th>\n",
              "      <td>skywalker</td>\n",
              "      <td>value_b</td>\n",
              "      <td>9</td>\n",
              "    </tr>\n",
              "    <tr>\n",
              "      <th>9</th>\n",
              "      <td>potter</td>\n",
              "      <td>value_b</td>\n",
              "      <td>10</td>\n",
              "    </tr>\n",
              "  </tbody>\n",
              "</table>\n",
              "</div>"
            ],
            "text/plain": [
              "         name variable  value\n",
              "0      müller  value_a      1\n",
              "1  mustermann  value_a      2\n",
              "2        wick  value_a      3\n",
              "3   skywalker  value_a      4\n",
              "4      potter  value_a      5\n",
              "5      müller  value_b      6\n",
              "6  mustermann  value_b      7\n",
              "7        wick  value_b      8\n",
              "8   skywalker  value_b      9\n",
              "9      potter  value_b     10"
            ]
          },
          "metadata": {
            "tags": []
          },
          "execution_count": 12
        }
      ]
    },
    {
      "cell_type": "markdown",
      "metadata": {
        "id": "xnDjPA5NPq0l"
      },
      "source": [
        "**Save DF to CSV**"
      ]
    },
    {
      "cell_type": "code",
      "metadata": {
        "id": "9wQ9gxfPPtwL"
      },
      "source": [
        "df.to_csv(\"/content/sample_data/test2.csv\",index=False)"
      ],
      "execution_count": null,
      "outputs": []
    },
    {
      "cell_type": "markdown",
      "metadata": {
        "id": "Acqv-uxWETyo"
      },
      "source": [
        "**Outlier**\n"
      ]
    },
    {
      "cell_type": "code",
      "metadata": {
        "id": "GKCQ8T9EEVkr"
      },
      "source": [
        ""
      ],
      "execution_count": null,
      "outputs": []
    },
    {
      "cell_type": "markdown",
      "metadata": {
        "id": "uIXD4CP2OAJE"
      },
      "source": [
        "**Build Dataset**"
      ]
    },
    {
      "cell_type": "code",
      "metadata": {
        "colab": {
          "base_uri": "https://localhost:8080/"
        },
        "id": "2q_trEhzWcz3",
        "outputId": "e3be231d-840e-4e5f-eeee-6df30fc2a892"
      },
      "source": [
        "!git clone https://gist.github.com/2dfd2de0d4f8727f873422c5d959fff5.git"
      ],
      "execution_count": null,
      "outputs": [
        {
          "output_type": "stream",
          "text": [
            "Cloning into '2dfd2de0d4f8727f873422c5d959fff5'...\n",
            "remote: Enumerating objects: 9, done.\u001b[K\n",
            "remote: Total 9 (delta 0), reused 0 (delta 0), pack-reused 9\u001b[K\n",
            "Unpacking objects: 100% (9/9), done.\n"
          ],
          "name": "stdout"
        }
      ]
    },
    {
      "cell_type": "code",
      "metadata": {
        "colab": {
          "base_uri": "https://localhost:8080/"
        },
        "id": "XLNJjfXCYyqT",
        "outputId": "5547459e-77a4-45ce-8cf6-d5e1c3d9a96c"
      },
      "source": [
        "titanic_df = pd.read_csv(\"/content/2dfd2de0d4f8727f873422c5d959fff5/titanic.csv\")\n",
        "print(titanic_df.isnull().sum(axis=0))\n",
        "#print(titanic_df.isna().sum(axis=0))"
      ],
      "execution_count": null,
      "outputs": [
        {
          "output_type": "stream",
          "text": [
            "PassengerId      0\n",
            "Survived         0\n",
            "Pclass           0\n",
            "Name             0\n",
            "Sex              0\n",
            "Age            177\n",
            "SibSp            0\n",
            "Parch            0\n",
            "Ticket           0\n",
            "Fare             0\n",
            "Cabin          687\n",
            "Embarked         2\n",
            "dtype: int64\n"
          ],
          "name": "stdout"
        }
      ]
    },
    {
      "cell_type": "code",
      "metadata": {
        "id": "cz1CXg6-ZOJh"
      },
      "source": [
        "titanic_df = titanic_df.drop(columns=\"Cabin\")"
      ],
      "execution_count": null,
      "outputs": []
    },
    {
      "cell_type": "code",
      "metadata": {
        "id": "tMipEKLiZgWY"
      },
      "source": [
        "titanic_df[\"Age\"]=titanic_df[\"Age\"].fillna(titanic_df.Age.mean())"
      ],
      "execution_count": null,
      "outputs": []
    },
    {
      "cell_type": "code",
      "metadata": {
        "colab": {
          "base_uri": "https://localhost:8080/"
        },
        "id": "yjDJvczCZv3l",
        "outputId": "90570231-1925-4608-a12d-852ede82542a"
      },
      "source": [
        "print(titanic_df.isnull().sum(axis=0))\n",
        "print(titanic_df.isna().sum(axis=0))"
      ],
      "execution_count": null,
      "outputs": [
        {
          "output_type": "stream",
          "text": [
            "PassengerId    0\n",
            "Survived       0\n",
            "Pclass         0\n",
            "Name           0\n",
            "Sex            0\n",
            "Age            0\n",
            "SibSp          0\n",
            "Parch          0\n",
            "Ticket         0\n",
            "Fare           0\n",
            "Embarked       2\n",
            "dtype: int64\n",
            "PassengerId    0\n",
            "Survived       0\n",
            "Pclass         0\n",
            "Name           0\n",
            "Sex            0\n",
            "Age            0\n",
            "SibSp          0\n",
            "Parch          0\n",
            "Ticket         0\n",
            "Fare           0\n",
            "Embarked       2\n",
            "dtype: int64\n"
          ],
          "name": "stdout"
        }
      ]
    },
    {
      "cell_type": "code",
      "metadata": {
        "colab": {
          "base_uri": "https://localhost:8080/"
        },
        "id": "Bs-3CvifZzuF",
        "outputId": "ac6bd291-5909-40a0-b88c-ef8acbd038a4"
      },
      "source": [
        "len(titanic_df)"
      ],
      "execution_count": null,
      "outputs": [
        {
          "output_type": "execute_result",
          "data": {
            "text/plain": [
              "891"
            ]
          },
          "metadata": {
            "tags": []
          },
          "execution_count": 18
        }
      ]
    },
    {
      "cell_type": "code",
      "metadata": {
        "id": "4Rjw4-rdZ4ej"
      },
      "source": [
        "titanic_df.dropna(inplace=True)"
      ],
      "execution_count": null,
      "outputs": []
    },
    {
      "cell_type": "code",
      "metadata": {
        "colab": {
          "base_uri": "https://localhost:8080/"
        },
        "id": "O3vRD01LZ-dO",
        "outputId": "719bf352-e324-4516-952c-f6da91fc8cbc"
      },
      "source": [
        "len(titanic_df)"
      ],
      "execution_count": null,
      "outputs": [
        {
          "output_type": "execute_result",
          "data": {
            "text/plain": [
              "889"
            ]
          },
          "metadata": {
            "tags": []
          },
          "execution_count": 20
        }
      ]
    },
    {
      "cell_type": "code",
      "metadata": {
        "id": "3qemxfIsa_rH"
      },
      "source": [
        "titanic_df.to_csv(\"/content/sample_data/titanic.csv\", index=False)"
      ],
      "execution_count": null,
      "outputs": []
    },
    {
      "cell_type": "code",
      "metadata": {
        "id": "avIwQwL-OFgC"
      },
      "source": [
        "import torch\n",
        "from torch.utils.data import Dataset\n",
        "from sklearn.metrics import accuracy_score , confusion_matrix , r2_score , classification_report\n",
        "\n",
        "class OneHotEncoder():\n",
        "    def __init__(self,series):\n",
        "        unique_values = series.unique()\n",
        "        self.ordinals = {\n",
        "            val: i for i,val in enumerate(unique_values)\n",
        "        }\n",
        "        self.encoder = torch.eye(len(unique_values) , len(unique_values))\n",
        "        \n",
        "    def __getitem__(self,value):\n",
        "        return self.encoder[self.ordinals[value]]\n",
        "\n",
        "class DateEncoder():\n",
        "    def __getitem__(self, datestring):\n",
        "        parsed = dateutil.parser.parse(datestring)\n",
        "        return torch.Tensor([parsed.year, parsed.month , parsed.day])\n",
        "\n",
        "class MixedCSV(Dataset):\n",
        "    def __init__(self , datafile , output_series_name , date_series_name , categorical_series_name , ignore_series_name):\n",
        "        self.dataset = pd.read_csv(datafile)\n",
        "        self.output_series_name = output_series_name\n",
        "        self.encoders = {}\n",
        "        for series_name in date_series_name:\n",
        "            self.encoders[series_name] = DateEncoder()\n",
        "        for series_name in categorical_series_name:\n",
        "            self.encoders[series_name] = OneHotEncoder(self.dataset[series_name])\n",
        "        self.ignore = ignore_series_name\n",
        "        \n",
        "    def __len__(self):\n",
        "        return len(self.dataset)\n",
        "    \n",
        "    def __getitem__(self , index):\n",
        "        if type(index) is torch.Tensor:\n",
        "            index = index.item()\n",
        "        sample = self.dataset.iloc[index]\n",
        "        output = torch.Tensor([sample[self.output_series_name]])\n",
        "        input_components = []\n",
        "        for name , value in sample.items():\n",
        "            if name in self.ignore:\n",
        "                continue\n",
        "            elif name in self.encoders:\n",
        "                input_components.append(self.encoders[name][value])\n",
        "            else:\n",
        "                input_components.append(torch.Tensor([value]))\n",
        "        \n",
        "        input = torch.cat(input_components)\n",
        "        return input , output\n",
        "\n",
        "\n",
        "#date_type = []\n",
        "#categorical_data =  ['name' , 'variable']\n",
        "#discard = []\n",
        "#output_column = 'value'\n",
        "#houses = MixedCSV('/content/sample_data/test.csv' , \n",
        "#                    output_column,\n",
        "#                    date_type , \n",
        "#                    categorical_data , \n",
        "#                    discard)\n",
        "\n",
        "date_type = []\n",
        "categorical_data =  [\"Name\",\"Sex\",\"Ticket\",\"Embarked\"]\n",
        "discard = [\"Cabin\", \"PassengerId\"]\n",
        "output_column = 'Survived'\n",
        "houses = MixedCSV('/content/sample_data/titanic.csv' , \n",
        "                    output_column,\n",
        "                    date_type , \n",
        "                    categorical_data , \n",
        "                    discard)"
      ],
      "execution_count": null,
      "outputs": []
    },
    {
      "cell_type": "code",
      "metadata": {
        "colab": {
          "base_uri": "https://localhost:8080/"
        },
        "id": "7ao1UKZYQNef",
        "outputId": "477ea22c-0aaa-41b2-ad4a-ee50168b5e28"
      },
      "source": [
        "print(houses[3])\n",
        "\n",
        "train , test = torch.utils.data.random_split(houses , [len(houses)-int(len(houses)*0.2), int(len(houses)*0.2)])\n",
        "\n",
        "print(len(test))\n",
        "\n",
        "print(houses[0][0].shape[0])"
      ],
      "execution_count": null,
      "outputs": [
        {
          "output_type": "stream",
          "text": [
            "(tensor([1., 1., 0.,  ..., 1., 0., 0.]), tensor([1.]))\n",
            "177\n",
            "1580\n"
          ],
          "name": "stdout"
        }
      ]
    },
    {
      "cell_type": "code",
      "metadata": {
        "colab": {
          "base_uri": "https://localhost:8080/"
        },
        "id": "2mVrQsT1QXKz",
        "outputId": "4d3066bb-35a9-42a6-99ab-a4e354e67fce"
      },
      "source": [
        "class Model(torch.nn.Module):\n",
        "    def __init__(self , input_dimesions , size = 128):\n",
        "        super().__init__()\n",
        "        self.layer_one = torch.nn.Linear(input_dimesions , size)\n",
        "        self.activation_one = torch.nn.ReLU6()\n",
        "        self.layer_two = torch.nn.Linear(size , size)\n",
        "        self.activation_two = torch.nn.ReLU6()\n",
        "        self.shape_outputs = torch.nn.Linear(size , 1)\n",
        "    \n",
        "    def forward(self , inputs):\n",
        "        buffer = self.layer_one(inputs)\n",
        "        buffer = self.activation_one(buffer)\n",
        "        buffer = self.layer_two(buffer)\n",
        "        buffer = self.activation_two(buffer)\n",
        "        buffer = self.shape_outputs(buffer)\n",
        "        return buffer\n",
        "    \n",
        "model = Model(houses[0][0].shape[0])\n",
        "optimizer = torch.optim.Adam(model.parameters())\n",
        "loss_function = torch.nn.MSELoss()\n",
        "\n",
        "number_for_testing = int(len(houses)*0.2)\n",
        "number_for_training = len(houses) - number_for_testing\n",
        "train , test = torch.utils.data.random_split(houses , [number_for_training , number_for_testing])\n",
        "training = torch.utils.data.DataLoader(train , batch_size = 32 , shuffle = True)\n",
        "\n",
        "model.train()\n",
        "for epoch in range(100):\n",
        "    for inputs , outputs in training:\n",
        "        optimizer.zero_grad()\n",
        "        results = model(inputs)\n",
        "        loss = loss_function(results , outputs)\n",
        "        loss.backward()\n",
        "        optimizer.step()\n",
        "    print('Loss {0}'.format(loss))\n",
        "    \n",
        "print('Printing R-Square Score ....\\n')\n",
        "\n",
        "model.eval()\n",
        "with torch.no_grad():\n",
        "  testing = torch.utils.data.DataLoader(test , batch_size = len(test) , shuffle= False)\n",
        "  for inputs , outputs in testing:\n",
        "      predicted = model(inputs).detach().numpy()\n",
        "      actual = outputs.numpy()\n",
        "      print(r2_score(predicted , actual))"
      ],
      "execution_count": null,
      "outputs": [
        {
          "output_type": "stream",
          "text": [
            "Loss 0.229771226644516\n",
            "Loss 0.21534696221351624\n",
            "Loss 0.2040802538394928\n",
            "Loss 0.04354430362582207\n",
            "Loss 0.01789444498717785\n",
            "Loss 0.022830920293927193\n",
            "Loss 0.013615511357784271\n",
            "Loss 0.0041952249594032764\n",
            "Loss 0.03439207747578621\n",
            "Loss 0.025296075269579887\n",
            "Loss 0.0034242686815559864\n",
            "Loss 0.0007789207738824189\n",
            "Loss 0.0009436760446988046\n",
            "Loss 0.00200777780264616\n",
            "Loss 0.000499892164953053\n",
            "Loss 0.00029257035930640996\n",
            "Loss 0.0007294884417206049\n",
            "Loss 2.9027463824604638e-05\n",
            "Loss 0.0023620391730219126\n",
            "Loss 0.001269246218726039\n",
            "Loss 0.00015136486035771668\n",
            "Loss 0.00019675047951750457\n",
            "Loss 0.00011926556908292696\n",
            "Loss 0.0006136188749223948\n",
            "Loss 0.0002715928421821445\n",
            "Loss 1.9647970475489274e-05\n",
            "Loss 0.0012171845883131027\n",
            "Loss 0.0016337435226887465\n",
            "Loss 0.0005006426945328712\n",
            "Loss 6.797159585403278e-05\n",
            "Loss 8.776771574048325e-05\n",
            "Loss 0.0005572151858359575\n",
            "Loss 7.655831723241135e-05\n",
            "Loss 0.0003328842285554856\n",
            "Loss 0.00022957856708671898\n",
            "Loss 0.0002732754801400006\n",
            "Loss 0.0004860497429035604\n",
            "Loss 9.126200893661007e-05\n",
            "Loss 0.00022470777912531048\n",
            "Loss 0.0057905083522200584\n",
            "Loss 0.009248992428183556\n",
            "Loss 0.005181518383324146\n",
            "Loss 0.0005286182276904583\n",
            "Loss 0.0010465204250067472\n",
            "Loss 0.0016122102970257401\n",
            "Loss 0.000601970823481679\n",
            "Loss 0.00011988446931354702\n",
            "Loss 8.275233267340809e-05\n",
            "Loss 0.0001432008866686374\n",
            "Loss 2.403305916232057e-05\n",
            "Loss 1.897553011076525e-05\n",
            "Loss 1.4487723092315719e-05\n",
            "Loss 4.030696345580509e-06\n",
            "Loss 0.00011360922508174554\n",
            "Loss 7.470652053598315e-05\n",
            "Loss 5.694776336895302e-05\n",
            "Loss 0.005496772937476635\n",
            "Loss 0.011025889776647091\n",
            "Loss 0.00750512583181262\n",
            "Loss 0.02938440814614296\n",
            "Loss 0.0008735746378079057\n",
            "Loss 0.0018026564503088593\n",
            "Loss 0.0007419977337121964\n",
            "Loss 0.00025019378517754376\n",
            "Loss 0.00019643185078166425\n",
            "Loss 0.0045211585238575935\n",
            "Loss 0.00018115768034476787\n",
            "Loss 0.0001794965792214498\n",
            "Loss 0.00010173721238970757\n",
            "Loss 0.00033777341013774276\n",
            "Loss 1.9029575923923403e-05\n",
            "Loss 1.4814821042818949e-05\n",
            "Loss 2.324304477951955e-05\n",
            "Loss 1.0302156624675263e-05\n",
            "Loss 9.524288543616422e-06\n",
            "Loss 3.6242149690224323e-06\n",
            "Loss 1.0854390893655363e-05\n",
            "Loss 1.452173000870971e-05\n",
            "Loss 7.433457540173549e-06\n",
            "Loss 3.569361797417514e-05\n",
            "Loss 3.972551894548815e-06\n",
            "Loss 5.656804205500521e-06\n",
            "Loss 2.1238342924334574e-06\n",
            "Loss 2.269376636832021e-06\n",
            "Loss 9.336827702099981e-07\n",
            "Loss 2.4194334855565103e-06\n",
            "Loss 2.4799428501864895e-06\n",
            "Loss 1.4773212342333863e-06\n",
            "Loss 2.449216935929144e-06\n",
            "Loss 2.200770722993184e-06\n",
            "Loss 1.3165732752895565e-06\n",
            "Loss 5.470009227792616e-07\n",
            "Loss 1.2450598205759889e-06\n",
            "Loss 1.3583829741037334e-06\n",
            "Loss 6.62395468680188e-05\n",
            "Loss 0.003982292953878641\n",
            "Loss 0.0045038191601634026\n",
            "Loss 0.000478809408377856\n",
            "Loss 0.005280550569295883\n",
            "Loss 0.0007425178773701191\n",
            "Printing R-Square Score ....\n",
            "\n",
            "0.9317520330962727\n"
          ],
          "name": "stdout"
        }
      ]
    },
    {
      "cell_type": "code",
      "metadata": {
        "colab": {
          "base_uri": "https://localhost:8080/"
        },
        "id": "Gnd68YboRF3X",
        "outputId": "e1669152-5163-4170-d4b8-c8c01179b24f"
      },
      "source": [
        "data_to_be_predicted = houses[2][0]\n",
        "\n",
        "model.eval() #set model in evaluation mode - fix parameter values\n",
        "prediction = model(data_to_be_predicted).detach().numpy() #get model output, detach, convert to numpy and round value to get exact prediction\n",
        "print(prediction, abs(prediction.round()))"
      ],
      "execution_count": null,
      "outputs": [
        {
          "output_type": "stream",
          "text": [
            "[0.9802835] [1.]\n"
          ],
          "name": "stdout"
        }
      ]
    },
    {
      "cell_type": "code",
      "metadata": {
        "colab": {
          "base_uri": "https://localhost:8080/",
          "height": 487
        },
        "id": "y8uDvhhFfwky",
        "outputId": "11648f87-b0ed-457e-aad8-49756040fb1d"
      },
      "source": [
        "df = pd.read_csv('/content/sample_data/titanic.csv')\n",
        "df"
      ],
      "execution_count": null,
      "outputs": [
        {
          "output_type": "execute_result",
          "data": {
            "text/html": [
              "<div>\n",
              "<style scoped>\n",
              "    .dataframe tbody tr th:only-of-type {\n",
              "        vertical-align: middle;\n",
              "    }\n",
              "\n",
              "    .dataframe tbody tr th {\n",
              "        vertical-align: top;\n",
              "    }\n",
              "\n",
              "    .dataframe thead th {\n",
              "        text-align: right;\n",
              "    }\n",
              "</style>\n",
              "<table border=\"1\" class=\"dataframe\">\n",
              "  <thead>\n",
              "    <tr style=\"text-align: right;\">\n",
              "      <th></th>\n",
              "      <th>PassengerId</th>\n",
              "      <th>Survived</th>\n",
              "      <th>Pclass</th>\n",
              "      <th>Name</th>\n",
              "      <th>Sex</th>\n",
              "      <th>Age</th>\n",
              "      <th>SibSp</th>\n",
              "      <th>Parch</th>\n",
              "      <th>Ticket</th>\n",
              "      <th>Fare</th>\n",
              "      <th>Embarked</th>\n",
              "    </tr>\n",
              "  </thead>\n",
              "  <tbody>\n",
              "    <tr>\n",
              "      <th>0</th>\n",
              "      <td>1</td>\n",
              "      <td>0</td>\n",
              "      <td>3</td>\n",
              "      <td>Braund, Mr. Owen Harris</td>\n",
              "      <td>male</td>\n",
              "      <td>22.000000</td>\n",
              "      <td>1</td>\n",
              "      <td>0</td>\n",
              "      <td>A/5 21171</td>\n",
              "      <td>7.2500</td>\n",
              "      <td>S</td>\n",
              "    </tr>\n",
              "    <tr>\n",
              "      <th>1</th>\n",
              "      <td>2</td>\n",
              "      <td>1</td>\n",
              "      <td>1</td>\n",
              "      <td>Cumings, Mrs. John Bradley (Florence Briggs Th...</td>\n",
              "      <td>female</td>\n",
              "      <td>38.000000</td>\n",
              "      <td>1</td>\n",
              "      <td>0</td>\n",
              "      <td>PC 17599</td>\n",
              "      <td>71.2833</td>\n",
              "      <td>C</td>\n",
              "    </tr>\n",
              "    <tr>\n",
              "      <th>2</th>\n",
              "      <td>3</td>\n",
              "      <td>1</td>\n",
              "      <td>3</td>\n",
              "      <td>Heikkinen, Miss. Laina</td>\n",
              "      <td>female</td>\n",
              "      <td>26.000000</td>\n",
              "      <td>0</td>\n",
              "      <td>0</td>\n",
              "      <td>STON/O2. 3101282</td>\n",
              "      <td>7.9250</td>\n",
              "      <td>S</td>\n",
              "    </tr>\n",
              "    <tr>\n",
              "      <th>3</th>\n",
              "      <td>4</td>\n",
              "      <td>1</td>\n",
              "      <td>1</td>\n",
              "      <td>Futrelle, Mrs. Jacques Heath (Lily May Peel)</td>\n",
              "      <td>female</td>\n",
              "      <td>35.000000</td>\n",
              "      <td>1</td>\n",
              "      <td>0</td>\n",
              "      <td>113803</td>\n",
              "      <td>53.1000</td>\n",
              "      <td>S</td>\n",
              "    </tr>\n",
              "    <tr>\n",
              "      <th>4</th>\n",
              "      <td>5</td>\n",
              "      <td>0</td>\n",
              "      <td>3</td>\n",
              "      <td>Allen, Mr. William Henry</td>\n",
              "      <td>male</td>\n",
              "      <td>35.000000</td>\n",
              "      <td>0</td>\n",
              "      <td>0</td>\n",
              "      <td>373450</td>\n",
              "      <td>8.0500</td>\n",
              "      <td>S</td>\n",
              "    </tr>\n",
              "    <tr>\n",
              "      <th>...</th>\n",
              "      <td>...</td>\n",
              "      <td>...</td>\n",
              "      <td>...</td>\n",
              "      <td>...</td>\n",
              "      <td>...</td>\n",
              "      <td>...</td>\n",
              "      <td>...</td>\n",
              "      <td>...</td>\n",
              "      <td>...</td>\n",
              "      <td>...</td>\n",
              "      <td>...</td>\n",
              "    </tr>\n",
              "    <tr>\n",
              "      <th>884</th>\n",
              "      <td>887</td>\n",
              "      <td>0</td>\n",
              "      <td>2</td>\n",
              "      <td>Montvila, Rev. Juozas</td>\n",
              "      <td>male</td>\n",
              "      <td>27.000000</td>\n",
              "      <td>0</td>\n",
              "      <td>0</td>\n",
              "      <td>211536</td>\n",
              "      <td>13.0000</td>\n",
              "      <td>S</td>\n",
              "    </tr>\n",
              "    <tr>\n",
              "      <th>885</th>\n",
              "      <td>888</td>\n",
              "      <td>1</td>\n",
              "      <td>1</td>\n",
              "      <td>Graham, Miss. Margaret Edith</td>\n",
              "      <td>female</td>\n",
              "      <td>19.000000</td>\n",
              "      <td>0</td>\n",
              "      <td>0</td>\n",
              "      <td>112053</td>\n",
              "      <td>30.0000</td>\n",
              "      <td>S</td>\n",
              "    </tr>\n",
              "    <tr>\n",
              "      <th>886</th>\n",
              "      <td>889</td>\n",
              "      <td>0</td>\n",
              "      <td>3</td>\n",
              "      <td>Johnston, Miss. Catherine Helen \"Carrie\"</td>\n",
              "      <td>female</td>\n",
              "      <td>29.699118</td>\n",
              "      <td>1</td>\n",
              "      <td>2</td>\n",
              "      <td>W./C. 6607</td>\n",
              "      <td>23.4500</td>\n",
              "      <td>S</td>\n",
              "    </tr>\n",
              "    <tr>\n",
              "      <th>887</th>\n",
              "      <td>890</td>\n",
              "      <td>1</td>\n",
              "      <td>1</td>\n",
              "      <td>Behr, Mr. Karl Howell</td>\n",
              "      <td>male</td>\n",
              "      <td>26.000000</td>\n",
              "      <td>0</td>\n",
              "      <td>0</td>\n",
              "      <td>111369</td>\n",
              "      <td>30.0000</td>\n",
              "      <td>C</td>\n",
              "    </tr>\n",
              "    <tr>\n",
              "      <th>888</th>\n",
              "      <td>891</td>\n",
              "      <td>0</td>\n",
              "      <td>3</td>\n",
              "      <td>Dooley, Mr. Patrick</td>\n",
              "      <td>male</td>\n",
              "      <td>32.000000</td>\n",
              "      <td>0</td>\n",
              "      <td>0</td>\n",
              "      <td>370376</td>\n",
              "      <td>7.7500</td>\n",
              "      <td>Q</td>\n",
              "    </tr>\n",
              "  </tbody>\n",
              "</table>\n",
              "<p>889 rows × 11 columns</p>\n",
              "</div>"
            ],
            "text/plain": [
              "     PassengerId  Survived  Pclass  ...            Ticket     Fare  Embarked\n",
              "0              1         0       3  ...         A/5 21171   7.2500         S\n",
              "1              2         1       1  ...          PC 17599  71.2833         C\n",
              "2              3         1       3  ...  STON/O2. 3101282   7.9250         S\n",
              "3              4         1       1  ...            113803  53.1000         S\n",
              "4              5         0       3  ...            373450   8.0500         S\n",
              "..           ...       ...     ...  ...               ...      ...       ...\n",
              "884          887         0       2  ...            211536  13.0000         S\n",
              "885          888         1       1  ...            112053  30.0000         S\n",
              "886          889         0       3  ...        W./C. 6607  23.4500         S\n",
              "887          890         1       1  ...            111369  30.0000         C\n",
              "888          891         0       3  ...            370376   7.7500         Q\n",
              "\n",
              "[889 rows x 11 columns]"
            ]
          },
          "metadata": {
            "tags": []
          },
          "execution_count": 26
        }
      ]
    },
    {
      "cell_type": "code",
      "metadata": {
        "colab": {
          "base_uri": "https://localhost:8080/",
          "height": 266
        },
        "id": "EdUjXu-fgP1r",
        "outputId": "91406e6b-206a-4770-b5d8-39f2d2500aff"
      },
      "source": [
        "df.corr()"
      ],
      "execution_count": null,
      "outputs": [
        {
          "output_type": "execute_result",
          "data": {
            "text/html": [
              "<div>\n",
              "<style scoped>\n",
              "    .dataframe tbody tr th:only-of-type {\n",
              "        vertical-align: middle;\n",
              "    }\n",
              "\n",
              "    .dataframe tbody tr th {\n",
              "        vertical-align: top;\n",
              "    }\n",
              "\n",
              "    .dataframe thead th {\n",
              "        text-align: right;\n",
              "    }\n",
              "</style>\n",
              "<table border=\"1\" class=\"dataframe\">\n",
              "  <thead>\n",
              "    <tr style=\"text-align: right;\">\n",
              "      <th></th>\n",
              "      <th>PassengerId</th>\n",
              "      <th>Survived</th>\n",
              "      <th>Pclass</th>\n",
              "      <th>Age</th>\n",
              "      <th>SibSp</th>\n",
              "      <th>Parch</th>\n",
              "      <th>Fare</th>\n",
              "    </tr>\n",
              "  </thead>\n",
              "  <tbody>\n",
              "    <tr>\n",
              "      <th>PassengerId</th>\n",
              "      <td>1.000000</td>\n",
              "      <td>-0.005028</td>\n",
              "      <td>-0.035330</td>\n",
              "      <td>0.030300</td>\n",
              "      <td>-0.057686</td>\n",
              "      <td>-0.001657</td>\n",
              "      <td>0.012703</td>\n",
              "    </tr>\n",
              "    <tr>\n",
              "      <th>Survived</th>\n",
              "      <td>-0.005028</td>\n",
              "      <td>1.000000</td>\n",
              "      <td>-0.335549</td>\n",
              "      <td>-0.074673</td>\n",
              "      <td>-0.034040</td>\n",
              "      <td>0.083151</td>\n",
              "      <td>0.255290</td>\n",
              "    </tr>\n",
              "    <tr>\n",
              "      <th>Pclass</th>\n",
              "      <td>-0.035330</td>\n",
              "      <td>-0.335549</td>\n",
              "      <td>1.000000</td>\n",
              "      <td>-0.327954</td>\n",
              "      <td>0.081656</td>\n",
              "      <td>0.016824</td>\n",
              "      <td>-0.548193</td>\n",
              "    </tr>\n",
              "    <tr>\n",
              "      <th>Age</th>\n",
              "      <td>0.030300</td>\n",
              "      <td>-0.074673</td>\n",
              "      <td>-0.327954</td>\n",
              "      <td>1.000000</td>\n",
              "      <td>-0.231875</td>\n",
              "      <td>-0.178232</td>\n",
              "      <td>0.088604</td>\n",
              "    </tr>\n",
              "    <tr>\n",
              "      <th>SibSp</th>\n",
              "      <td>-0.057686</td>\n",
              "      <td>-0.034040</td>\n",
              "      <td>0.081656</td>\n",
              "      <td>-0.231875</td>\n",
              "      <td>1.000000</td>\n",
              "      <td>0.414542</td>\n",
              "      <td>0.160887</td>\n",
              "    </tr>\n",
              "    <tr>\n",
              "      <th>Parch</th>\n",
              "      <td>-0.001657</td>\n",
              "      <td>0.083151</td>\n",
              "      <td>0.016824</td>\n",
              "      <td>-0.178232</td>\n",
              "      <td>0.414542</td>\n",
              "      <td>1.000000</td>\n",
              "      <td>0.217532</td>\n",
              "    </tr>\n",
              "    <tr>\n",
              "      <th>Fare</th>\n",
              "      <td>0.012703</td>\n",
              "      <td>0.255290</td>\n",
              "      <td>-0.548193</td>\n",
              "      <td>0.088604</td>\n",
              "      <td>0.160887</td>\n",
              "      <td>0.217532</td>\n",
              "      <td>1.000000</td>\n",
              "    </tr>\n",
              "  </tbody>\n",
              "</table>\n",
              "</div>"
            ],
            "text/plain": [
              "             PassengerId  Survived    Pclass  ...     SibSp     Parch      Fare\n",
              "PassengerId     1.000000 -0.005028 -0.035330  ... -0.057686 -0.001657  0.012703\n",
              "Survived       -0.005028  1.000000 -0.335549  ... -0.034040  0.083151  0.255290\n",
              "Pclass         -0.035330 -0.335549  1.000000  ...  0.081656  0.016824 -0.548193\n",
              "Age             0.030300 -0.074673 -0.327954  ... -0.231875 -0.178232  0.088604\n",
              "SibSp          -0.057686 -0.034040  0.081656  ...  1.000000  0.414542  0.160887\n",
              "Parch          -0.001657  0.083151  0.016824  ...  0.414542  1.000000  0.217532\n",
              "Fare            0.012703  0.255290 -0.548193  ...  0.160887  0.217532  1.000000\n",
              "\n",
              "[7 rows x 7 columns]"
            ]
          },
          "metadata": {
            "tags": []
          },
          "execution_count": 28
        }
      ]
    },
    {
      "cell_type": "code",
      "metadata": {
        "colab": {
          "base_uri": "https://localhost:8080/",
          "height": 320
        },
        "id": "xhnXBPNrgfSo",
        "outputId": "d3a25b01-a330-4d1d-bb7c-886a60bb3646"
      },
      "source": [
        "import seaborn as sn\n",
        "import matplotlib.pyplot as plt\n",
        "\n",
        "corrMatrix = df.corr()\n",
        "sn.heatmap(corrMatrix, annot=True)\n",
        "plt.show()"
      ],
      "execution_count": null,
      "outputs": [
        {
          "output_type": "display_data",
          "data": {
            "image/png": "[encoded data removed]",
            "text/plain": [
              "<Figure size 432x288 with 2 Axes>"
            ]
          },
          "metadata": {
            "tags": [],
            "needs_background": "light"
          }
        }
      ]
    }
  ]
}